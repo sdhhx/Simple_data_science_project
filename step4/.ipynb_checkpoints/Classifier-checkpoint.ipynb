{
 "cells": [
  {
   "cell_type": "markdown",
   "metadata": {},
   "source": [
    "# Step4 机器学习训练流程"
   ]
  },
  {
   "cell_type": "markdown",
   "metadata": {},
   "source": [
    "    建立模型，对新闻文本进行分类(包括特征抽取，分类器选择，分类器参数调优，结果评估等过程)。这里的顺序同上。\n",
    "    这里简述各部分需要做的事情：\n",
    "        特征抽取：\n",
    "           选择有价值的数据内容做特征提取。对文本分类选择内容作为输入，分别按照词频和逆文本频率进行提取。按照if-idf可以有效提取关键词，而不是使与主题无关的常用词有较高的权重。\n",
    "        分类器选择：\n",
    "            训练高维数据，一般需要不考虑极高复杂度的情况。\n",
    "            选择低复杂度的训练器：\n",
    "                例如逻辑斯蒂回归模型、朴素贝叶斯模型和K最近邻模型。\n",
    "        分类器参数调优：\n",
    "            使用GridSearchCV进行参数调优。\n",
    "        结果评估：\n",
    "            例如直接度量其准确度，或者使用混淆矩阵。其中混淆矩阵反映了分类的细节，例如A被分为A、B、C的数量。\n",
    "            \n",
    "       注： 交叉验证不做图是因为懒。"
   ]
  },
  {
   "cell_type": "markdown",
   "metadata": {},
   "source": [
    "# 1. 导入常见库"
   ]
  },
  {
   "cell_type": "code",
   "execution_count": 1,
   "metadata": {
    "collapsed": true
   },
   "outputs": [],
   "source": [
    "# -*- coding: utf-8 -*-\n",
    "import jieba\n",
    "import numpy as np\n",
    "import codecs\n",
    "import pandas as pd\n",
    "import matplotlib.pyplot as plt\n",
    "%matplotlib inline"
   ]
  },
  {
   "cell_type": "markdown",
   "metadata": {},
   "source": [
    "# 2. 读入数据"
   ]
  },
  {
   "cell_type": "code",
   "execution_count": 2,
   "metadata": {
    "collapsed": false
   },
   "outputs": [
    {
     "name": "stderr",
     "output_type": "stream",
     "text": [
      "Building prefix dict from the default dictionary ...\n",
      "Loading model from cache c:\\users\\hehaox~1\\appdata\\local\\temp\\jieba.cache\n",
      "Loading model cost 0.343 seconds.\n",
      "Prefix dict has been built succesfully.\n"
     ]
    },
    {
     "data": {
      "text/html": [
       "<div>\n",
       "<table border=\"1\" class=\"dataframe\">\n",
       "  <thead>\n",
       "    <tr style=\"text-align: right;\">\n",
       "      <th></th>\n",
       "      <th>content</th>\n",
       "      <th>publisher</th>\n",
       "      <th>time</th>\n",
       "      <th>title</th>\n",
       "      <th>type</th>\n",
       "      <th>segment</th>\n",
       "    </tr>\n",
       "  </thead>\n",
       "  <tbody>\n",
       "    <tr>\n",
       "      <th>0</th>\n",
       "      <td>随着国际社会对朝鲜制裁的进一步加剧，朝鲜正在寻求包括开拓国内旅游业在内的更多渠道，来弥补...</td>\n",
       "      <td>澎湃新闻</td>\n",
       "      <td>2017-03-24 18:05:27</td>\n",
       "      <td>朝鲜拟推邮轮旅游弥补制裁损失 允许船上开赌场</td>\n",
       "      <td>国际</td>\n",
       "      <td>随着 国际 社会 对 朝鲜 制裁 的 进一步 加剧 ， 朝鲜 正在 寻求 包括 开拓...</td>\n",
       "    </tr>\n",
       "    <tr>\n",
       "      <th>1</th>\n",
       "      <td>埃及前总统穆巴拉克24日获释回到位于开罗市内的家中。</td>\n",
       "      <td>新华网</td>\n",
       "      <td>2017-03-24 18:18:44</td>\n",
       "      <td>埃及前总统穆巴拉克获释回到家中</td>\n",
       "      <td>国际</td>\n",
       "      <td>埃及 前 总统 穆巴拉克 24 日 获释 回到 位于 开罗 市内 的 家中 。</td>\n",
       "    </tr>\n",
       "    <tr>\n",
       "      <th>2</th>\n",
       "      <td>朝鲜局势不断升温之下，3月22日，朝鲜再次发射了导弹。\\n　　据央视新闻客户端报道，韩国...</td>\n",
       "      <td>澎湃新闻</td>\n",
       "      <td>2017-03-22 17:04:13</td>\n",
       "      <td>朝鲜今晨导弹发射失败 专家称或为旧型导弹</td>\n",
       "      <td>国际</td>\n",
       "      <td>朝鲜 局势 不断 升温 之下 ， 3 月 22 日 ， 朝鲜 再次 发射 了 导弹 ...</td>\n",
       "    </tr>\n",
       "    <tr>\n",
       "      <th>3</th>\n",
       "      <td>【观察者网 综合报道】据韩联社3月22日报道，韩国海洋水产部表示，试捞世越号沉船于今日（...</td>\n",
       "      <td>观察者网</td>\n",
       "      <td>2017-03-22 17:09:05</td>\n",
       "      <td>上海打捞局助韩国试捞世越号沉船 今日或出水</td>\n",
       "      <td>国际</td>\n",
       "      <td>【 观察者 网   综合 报道 】 据 韩联社 3 月 22 日 报道 ， 韩国 海...</td>\n",
       "    </tr>\n",
       "    <tr>\n",
       "      <th>4</th>\n",
       "      <td>当地时间3月22日下午，英国伦敦议会外发生恐怖袭击，据英国警方透露，目前已造成5人死亡4...</td>\n",
       "      <td>澎湃新闻</td>\n",
       "      <td>2017-03-23 16:10:29</td>\n",
       "      <td>英内政部：伦敦恐袭尚未发现与特定恐怖组织有关</td>\n",
       "      <td>国际</td>\n",
       "      <td>当地 时间 3 月 22 日 下午 ， 英国伦敦 议会 外 发生 恐怖袭击 ， 据 ...</td>\n",
       "    </tr>\n",
       "    <tr>\n",
       "      <th>5</th>\n",
       "      <td>【英国警方逮捕7名嫌疑人】伦敦警察局助理专员马克·罗利说，在包括伦敦、伯明翰等多地开展的...</td>\n",
       "      <td>综合</td>\n",
       "      <td>2017-03-23 16:08:59</td>\n",
       "      <td>英国警方逮捕7名恐袭事件嫌疑人</td>\n",
       "      <td>国际</td>\n",
       "      <td>【 英国 警方 逮捕 7 名 嫌疑人 】 伦敦 警察局 助理 专员 马克 · 罗利 ...</td>\n",
       "    </tr>\n",
       "    <tr>\n",
       "      <th>6</th>\n",
       "      <td>坠机现场。\\n　　中新网3月21日电综合报道，当地时间20日下午，一架从南苏丹首都朱巴飞...</td>\n",
       "      <td>中国新闻网</td>\n",
       "      <td>2017-03-21 04:17:23</td>\n",
       "      <td>南苏丹坠机多人受伤无人死亡 部分乘客未系安全带</td>\n",
       "      <td>国际</td>\n",
       "      <td>坠机 现场 。 \\n 　 　 中新网 3 月 21 日电 综合 报道 ， 当地 时间...</td>\n",
       "    </tr>\n",
       "    <tr>\n",
       "      <th>7</th>\n",
       "      <td>3月23日上午，英国伦敦警察局（苏格兰场）召开新闻发布会通报了伦敦议会恐怖袭击的最新进展...</td>\n",
       "      <td>澎湃新闻</td>\n",
       "      <td>2017-03-23 16:18:53</td>\n",
       "      <td>伦敦警方上百警力连夜搜查 搜查6个地点逮捕7人</td>\n",
       "      <td>国际</td>\n",
       "      <td>3 月 23 日 上午 ， 英国伦敦 警察局 （ 苏格兰 场 ） 召开 新闻 发布会...</td>\n",
       "    </tr>\n",
       "    <tr>\n",
       "      <th>8</th>\n",
       "      <td>新华社喀布尔3月23日电（记者卢树群）阿富汗北部昆都士省警方证实，该省一处安全检查站当天...</td>\n",
       "      <td>新华网</td>\n",
       "      <td>2017-03-23 16:33:33</td>\n",
       "      <td>阿富汗北部一安全检查站遭袭9名警察身亡</td>\n",
       "      <td>国际</td>\n",
       "      <td>新华社 喀布尔 3 月 23 日电 （ 记者 卢树群 ） 阿富汗 北部 昆都士 省 ...</td>\n",
       "    </tr>\n",
       "    <tr>\n",
       "      <th>9</th>\n",
       "      <td>西班牙加泰罗尼亚自治区首府巴塞罗那的数千民众19日走上街头，抗议地方政府谋求举行“独立”...</td>\n",
       "      <td>综合</td>\n",
       "      <td>2017-03-21 04:30:33</td>\n",
       "      <td>西班牙加泰罗尼亚再谋“公投” 闹独立持续数百年</td>\n",
       "      <td>国际</td>\n",
       "      <td>西班牙 加泰罗尼亚 自治区 首府 巴塞罗那 的 数千 民众 19 日 走上 街头 ，...</td>\n",
       "    </tr>\n",
       "  </tbody>\n",
       "</table>\n",
       "</div>"
      ],
      "text/plain": [
       "                                             content publisher  \\\n",
       "0  　　随着国际社会对朝鲜制裁的进一步加剧，朝鲜正在寻求包括开拓国内旅游业在内的更多渠道，来弥补...      澎湃新闻   \n",
       "1                       　　埃及前总统穆巴拉克24日获释回到位于开罗市内的家中。       新华网   \n",
       "2  　　朝鲜局势不断升温之下，3月22日，朝鲜再次发射了导弹。\\n　　据央视新闻客户端报道，韩国...      澎湃新闻   \n",
       "3  　　【观察者网 综合报道】据韩联社3月22日报道，韩国海洋水产部表示，试捞世越号沉船于今日（...      观察者网   \n",
       "4  　　当地时间3月22日下午，英国伦敦议会外发生恐怖袭击，据英国警方透露，目前已造成5人死亡4...      澎湃新闻   \n",
       "5  　　【英国警方逮捕7名嫌疑人】伦敦警察局助理专员马克·罗利说，在包括伦敦、伯明翰等多地开展的...        综合   \n",
       "6  　　坠机现场。\\n　　中新网3月21日电综合报道，当地时间20日下午，一架从南苏丹首都朱巴飞...     中国新闻网   \n",
       "7  　　3月23日上午，英国伦敦警察局（苏格兰场）召开新闻发布会通报了伦敦议会恐怖袭击的最新进展...      澎湃新闻   \n",
       "8  　　新华社喀布尔3月23日电（记者卢树群）阿富汗北部昆都士省警方证实，该省一处安全检查站当天...       新华网   \n",
       "9  　　西班牙加泰罗尼亚自治区首府巴塞罗那的数千民众19日走上街头，抗议地方政府谋求举行“独立”...        综合   \n",
       "\n",
       "                  time                    title type  \\\n",
       "0  2017-03-24 18:05:27   朝鲜拟推邮轮旅游弥补制裁损失 允许船上开赌场   国际   \n",
       "1  2017-03-24 18:18:44          埃及前总统穆巴拉克获释回到家中   国际   \n",
       "2  2017-03-22 17:04:13     朝鲜今晨导弹发射失败 专家称或为旧型导弹   国际   \n",
       "3  2017-03-22 17:09:05    上海打捞局助韩国试捞世越号沉船 今日或出水   国际   \n",
       "4  2017-03-23 16:10:29   英内政部：伦敦恐袭尚未发现与特定恐怖组织有关   国际   \n",
       "5  2017-03-23 16:08:59          英国警方逮捕7名恐袭事件嫌疑人   国际   \n",
       "6  2017-03-21 04:17:23  南苏丹坠机多人受伤无人死亡 部分乘客未系安全带   国际   \n",
       "7  2017-03-23 16:18:53  伦敦警方上百警力连夜搜查 搜查6个地点逮捕7人   国际   \n",
       "8  2017-03-23 16:33:33      阿富汗北部一安全检查站遭袭9名警察身亡   国际   \n",
       "9  2017-03-21 04:30:33  西班牙加泰罗尼亚再谋“公投” 闹独立持续数百年   国际   \n",
       "\n",
       "                                             segment  \n",
       "0  　 　 随着 国际 社会 对 朝鲜 制裁 的 进一步 加剧 ， 朝鲜 正在 寻求 包括 开拓...  \n",
       "1        　 　 埃及 前 总统 穆巴拉克 24 日 获释 回到 位于 开罗 市内 的 家中 。  \n",
       "2  　 　 朝鲜 局势 不断 升温 之下 ， 3 月 22 日 ， 朝鲜 再次 发射 了 导弹 ...  \n",
       "3  　 　 【 观察者 网   综合 报道 】 据 韩联社 3 月 22 日 报道 ， 韩国 海...  \n",
       "4  　 　 当地 时间 3 月 22 日 下午 ， 英国伦敦 议会 外 发生 恐怖袭击 ， 据 ...  \n",
       "5  　 　 【 英国 警方 逮捕 7 名 嫌疑人 】 伦敦 警察局 助理 专员 马克 · 罗利 ...  \n",
       "6  　 　 坠机 现场 。 \\n 　 　 中新网 3 月 21 日电 综合 报道 ， 当地 时间...  \n",
       "7  　 　 3 月 23 日 上午 ， 英国伦敦 警察局 （ 苏格兰 场 ） 召开 新闻 发布会...  \n",
       "8  　 　 新华社 喀布尔 3 月 23 日电 （ 记者 卢树群 ） 阿富汗 北部 昆都士 省 ...  \n",
       "9  　 　 西班牙 加泰罗尼亚 自治区 首府 巴塞罗那 的 数千 民众 19 日 走上 街头 ，...  "
      ]
     },
     "execution_count": 2,
     "metadata": {},
     "output_type": "execute_result"
    }
   ],
   "source": [
    "import json\n",
    "\n",
    "def readfromJson(filename):\n",
    "    dir = \"data/\"\n",
    "    filename = dir + filename\n",
    "    file = codecs.open(filename, 'r')\n",
    "    \n",
    "    data = {}\n",
    "    data['title'] = []\n",
    "    data['publisher'] = []\n",
    "    data['type'] = []\n",
    "    data['time'] = []\n",
    "    data['content'] = []\n",
    "    \n",
    "    for line in file.readlines():\n",
    "        news_unit = json.loads(line)\n",
    "        data['title'].append(news_unit['title'])\n",
    "        data['publisher'].append(news_unit['publisher'])\n",
    "        data['type'].append(news_unit['type'])\n",
    "        data['time'].append(news_unit['time'])\n",
    "        data['content'].append(news_unit['content'])\n",
    "\n",
    "    data = pd.DataFrame(data)\n",
    "    return data\n",
    "\n",
    "GuojiData = readfromJson(\"Guoji.json\")\n",
    "GuoneiData = readfromJson(\"Guonei.json\")\n",
    "ShehuiData = readfromJson(\"Shehui.json\")\n",
    "frames = [GuojiData, GuoneiData, ShehuiData]\n",
    "data = pd.concat(frames)\n",
    "data[\"segment\"] = data[\"content\"].apply(lambda x : \" \".join(list(jieba.cut(x))))\n",
    "data.head(10)"
   ]
  },
  {
   "cell_type": "markdown",
   "metadata": {},
   "source": [
    "    CountVectorizer()计数器引入停用词后会报错。\n",
    "        Not hashable错误。似乎只能赋值为\"english\"这种。"
   ]
  },
  {
   "cell_type": "code",
   "execution_count": 3,
   "metadata": {
    "collapsed": false
   },
   "outputs": [],
   "source": [
    "#不能导入停用词? not hashable?\n",
    "stopwords = pd.read_csv(\"stopwords.txt\", index_col=False, quoting=3, sep=\"\\t\", names=['stopword'], encoding = \"utf-8\")\n",
    "stopwords = list(stopwords['stopword'])\n",
    "stopwords.append([\"\\n\", \"\\r\", \" \"])"
   ]
  },
  {
   "cell_type": "markdown",
   "metadata": {},
   "source": [
    "# 3. 校验不同模型"
   ]
  },
  {
   "cell_type": "markdown",
   "metadata": {},
   "source": [
    "    1. 以词频向量作为训练数据，以朴素贝叶斯模型分类。"
   ]
  },
  {
   "cell_type": "code",
   "execution_count": 4,
   "metadata": {
    "collapsed": true
   },
   "outputs": [],
   "source": [
    "#文章的词向量作为特征\n",
    "from sklearn.feature_extraction.text import CountVectorizer\n",
    "from sklearn.model_selection import train_test_split\n",
    "\n",
    "vectorizer = CountVectorizer()\n",
    "word_split = list(data[\"segment\"])\n",
    "word_split = vectorizer.fit_transform(word_split)\n",
    "target = list(data[\"type\"])\n",
    "\n",
    "x_train, x_test, y_train, y_test = train_test_split(word_split, target, random_state = 1)"
   ]
  },
  {
   "cell_type": "code",
   "execution_count": 5,
   "metadata": {
    "collapsed": false
   },
   "outputs": [
    {
     "name": "stdout",
     "output_type": "stream",
     "text": [
      "Best params:\n",
      "MultinomialNB(alpha=0.3, class_prior=None, fit_prior=False)\n",
      "Grid Search results:\n"
     ]
    },
    {
     "name": "stderr",
     "output_type": "stream",
     "text": [
      "C:\\Users\\hehaoxing\\Anaconda2\\lib\\site-packages\\sklearn\\model_selection\\_search.py:667: DeprecationWarning: The grid_scores_ attribute was deprecated in version 0.18 in favor of the more elaborate cv_results_ attribute. The grid_scores_ attribute will not be available from 0.20\n",
      "  DeprecationWarning)\n"
     ]
    },
    {
     "data": {
      "text/plain": [
       "[mean: 0.84100, std: 0.01405, params: {'alpha': 0.1, 'fit_prior': True},\n",
       " mean: 0.84763, std: 0.01745, params: {'alpha': 0.1, 'fit_prior': False},\n",
       " mean: 0.84135, std: 0.01162, params: {'alpha': 0.2, 'fit_prior': True},\n",
       " mean: 0.84833, std: 0.01531, params: {'alpha': 0.2, 'fit_prior': False},\n",
       " mean: 0.84205, std: 0.01251, params: {'alpha': 0.3, 'fit_prior': True},\n",
       " mean: 0.84868, std: 0.01656, params: {'alpha': 0.3, 'fit_prior': False},\n",
       " mean: 0.84170, std: 0.01377, params: {'alpha': 0.4, 'fit_prior': True},\n",
       " mean: 0.84868, std: 0.01724, params: {'alpha': 0.4, 'fit_prior': False},\n",
       " mean: 0.84170, std: 0.01303, params: {'alpha': 0.5, 'fit_prior': True},\n",
       " mean: 0.84833, std: 0.01648, params: {'alpha': 0.5, 'fit_prior': False},\n",
       " mean: 0.83996, std: 0.01241, params: {'alpha': 0.6, 'fit_prior': True},\n",
       " mean: 0.84763, std: 0.01646, params: {'alpha': 0.6, 'fit_prior': False},\n",
       " mean: 0.83926, std: 0.01266, params: {'alpha': 0.7, 'fit_prior': True},\n",
       " mean: 0.84658, std: 0.01603, params: {'alpha': 0.7, 'fit_prior': False},\n",
       " mean: 0.83961, std: 0.01253, params: {'alpha': 0.8, 'fit_prior': True},\n",
       " mean: 0.84693, std: 0.01619, params: {'alpha': 0.8, 'fit_prior': False},\n",
       " mean: 0.83926, std: 0.01231, params: {'alpha': 0.9, 'fit_prior': True},\n",
       " mean: 0.84658, std: 0.01603, params: {'alpha': 0.9, 'fit_prior': False},\n",
       " mean: 0.83996, std: 0.01167, params: {'alpha': 1.0, 'fit_prior': True},\n",
       " mean: 0.84658, std: 0.01507, params: {'alpha': 1.0, 'fit_prior': False}]"
      ]
     },
     "execution_count": 5,
     "metadata": {},
     "output_type": "execute_result"
    }
   ],
   "source": [
    "#维度较高，使用简单模型，首先选择朴素贝叶斯模型\n",
    "from sklearn.model_selection import GridSearchCV\n",
    "from sklearn.naive_bayes import MultinomialNB\n",
    "\n",
    "param_grid = {\n",
    "    'alpha': [0.1, 0.2, 0.3, 0.4, 0.5, 0.6, 0.7, 0.8, 0.9, 1.0],\n",
    "    'fit_prior' : [True, False]\n",
    "}\n",
    "grid_search = GridSearchCV(MultinomialNB(), param_grid, cv=5)\n",
    "grid_search.fit(x_train, y_train)\n",
    "y_pred = grid_search.predict(x_test)\n",
    "\n",
    "print \"Best params:\"\n",
    "print grid_search.best_estimator_\n",
    "print \"Grid Search results:\"\n",
    "grid_search.grid_scores_"
   ]
  },
  {
   "cell_type": "code",
   "execution_count": 6,
   "metadata": {
    "collapsed": false
   },
   "outputs": [
    {
     "name": "stdout",
     "output_type": "stream",
     "text": [
      "Train Accuracy score：0.940725244073\n",
      "Test Accuracy score：0.857740585774\n"
     ]
    }
   ],
   "source": [
    "from sklearn.metrics import accuracy_score\n",
    "print \"Train Accuracy score：\" + str(grid_search.score(x_train, y_train))\n",
    "print \"Test Accuracy score：\" + str(accuracy_score(y_test, y_pred))"
   ]
  },
  {
   "cell_type": "code",
   "execution_count": 7,
   "metadata": {
    "collapsed": false
   },
   "outputs": [
    {
     "name": "stdout",
     "output_type": "stream",
     "text": [
      "Classifier result:\n"
     ]
    },
    {
     "data": {
      "text/plain": [
       "array([[248,  31,  40],\n",
       "       [ 11, 292,   6],\n",
       "       [ 41,   7, 280]])"
      ]
     },
     "execution_count": 7,
     "metadata": {},
     "output_type": "execute_result"
    }
   ],
   "source": [
    "from sklearn.metrics import confusion_matrix\n",
    "print \"Classifier result:\"\n",
    "confusion_matrix(y_test, y_pred)"
   ]
  },
  {
   "cell_type": "markdown",
   "metadata": {},
   "source": [
    "    2. 以词频向量作为训练数据，以逻辑斯蒂回归模型分类。"
   ]
  },
  {
   "cell_type": "code",
   "execution_count": 8,
   "metadata": {
    "collapsed": false
   },
   "outputs": [
    {
     "name": "stdout",
     "output_type": "stream",
     "text": [
      "Best params:\n",
      "LogisticRegression(C=0.01, class_weight=None, dual=False, fit_intercept=True,\n",
      "          intercept_scaling=1, max_iter=100, multi_class='ovr', n_jobs=1,\n",
      "          penalty='l2', random_state=None, solver='liblinear', tol=0.0001,\n",
      "          verbose=0, warm_start=False)\n",
      "Grid Search results:\n"
     ]
    },
    {
     "name": "stderr",
     "output_type": "stream",
     "text": [
      "C:\\Users\\hehaoxing\\Anaconda2\\lib\\site-packages\\sklearn\\model_selection\\_search.py:667: DeprecationWarning: The grid_scores_ attribute was deprecated in version 0.18 in favor of the more elaborate cv_results_ attribute. The grid_scores_ attribute will not be available from 0.20\n",
      "  DeprecationWarning)\n"
     ]
    },
    {
     "data": {
      "text/plain": [
       "[mean: 0.71583, std: 0.01433, params: {'penalty': 'l1', 'C': 0.01},\n",
       " mean: 0.85251, std: 0.01803, params: {'penalty': 'l2', 'C': 0.01},\n",
       " mean: 0.81834, std: 0.01589, params: {'penalty': 'l1', 'C': 0.1},\n",
       " mean: 0.85146, std: 0.01548, params: {'penalty': 'l2', 'C': 0.1},\n",
       " mean: 0.83194, std: 0.01753, params: {'penalty': 'l1', 'C': 1.0},\n",
       " mean: 0.84379, std: 0.01260, params: {'penalty': 'l2', 'C': 1.0},\n",
       " mean: 0.82252, std: 0.01579, params: {'penalty': 'l1', 'C': 10.0},\n",
       " mean: 0.83647, std: 0.01016, params: {'penalty': 'l2', 'C': 10.0},\n",
       " mean: 0.82566, std: 0.01385, params: {'penalty': 'l1', 'C': 100.0},\n",
       " mean: 0.82322, std: 0.00865, params: {'penalty': 'l2', 'C': 100.0},\n",
       " mean: 0.82601, std: 0.01402, params: {'penalty': 'l1', 'C': 1000.0},\n",
       " mean: 0.79463, std: 0.01132, params: {'penalty': 'l2', 'C': 1000.0}]"
      ]
     },
     "execution_count": 8,
     "metadata": {},
     "output_type": "execute_result"
    }
   ],
   "source": [
    "#维度较高，使用简单模型，再次选择逻辑斯蒂回归模型\n",
    "from sklearn.model_selection import GridSearchCV\n",
    "from sklearn.linear_model import LogisticRegression\n",
    "param_grid = {\n",
    "    'penalty': ['l1', 'l2'],\n",
    "    'C' : [0.01, 0.1, 1.0, 10.0, 100.0, 1000.0]\n",
    "}\n",
    "grid_search = GridSearchCV(LogisticRegression(), param_grid, cv=5)\n",
    "grid_search.fit(x_train, y_train)\n",
    "y_pred = grid_search.predict(x_test)\n",
    "\n",
    "print \"Best params:\"\n",
    "print grid_search.best_estimator_\n",
    "print \"Grid Search results:\"\n",
    "grid_search.grid_scores_"
   ]
  },
  {
   "cell_type": "code",
   "execution_count": 9,
   "metadata": {
    "collapsed": false
   },
   "outputs": [
    {
     "name": "stdout",
     "output_type": "stream",
     "text": [
      "Train Accuracy score：0.967224546722\n",
      "Test Accuracy score：0.862970711297\n"
     ]
    }
   ],
   "source": [
    "from sklearn.metrics import accuracy_score\n",
    "print \"Train Accuracy score：\" + str(grid_search.score(x_train, y_train))\n",
    "print \"Test Accuracy score：\" + str(accuracy_score(y_test, y_pred))"
   ]
  },
  {
   "cell_type": "code",
   "execution_count": 10,
   "metadata": {
    "collapsed": false
   },
   "outputs": [
    {
     "name": "stdout",
     "output_type": "stream",
     "text": [
      "Classifier result:\n"
     ]
    },
    {
     "data": {
      "text/plain": [
       "array([[257,  15,  47],\n",
       "       [ 14, 283,  12],\n",
       "       [ 36,   7, 285]])"
      ]
     },
     "execution_count": 10,
     "metadata": {},
     "output_type": "execute_result"
    }
   ],
   "source": [
    "from sklearn.metrics import confusion_matrix\n",
    "print \"Classifier result:\"\n",
    "confusion_matrix(y_test, y_pred)"
   ]
  },
  {
   "cell_type": "markdown",
   "metadata": {
    "collapsed": true
   },
   "source": [
    "    3. 以词频向量作为训练数据，以K最近邻模型分类。\n",
    "        此模型复杂度相对高且效果差，放弃。"
   ]
  },
  {
   "cell_type": "code",
   "execution_count": 11,
   "metadata": {
    "collapsed": false
   },
   "outputs": [
    {
     "name": "stdout",
     "output_type": "stream",
     "text": [
      "Best params:\n",
      "KNeighborsClassifier(algorithm='auto', leaf_size=30, metric='minkowski',\n",
      "           metric_params=None, n_jobs=1, n_neighbors=5, p=2,\n",
      "           weights='uniform')\n",
      "Grid Search results:\n"
     ]
    },
    {
     "name": "stderr",
     "output_type": "stream",
     "text": [
      "C:\\Users\\hehaoxing\\Anaconda2\\lib\\site-packages\\sklearn\\model_selection\\_search.py:667: DeprecationWarning: The grid_scores_ attribute was deprecated in version 0.18 in favor of the more elaborate cv_results_ attribute. The grid_scores_ attribute will not be available from 0.20\n",
      "  DeprecationWarning)\n"
     ]
    },
    {
     "data": {
      "text/plain": [
       "[mean: 0.40656, std: 0.01658, params: {'p': 1},\n",
       " mean: 0.58961, std: 0.01121, params: {'p': 2}]"
      ]
     },
     "execution_count": 11,
     "metadata": {},
     "output_type": "execute_result"
    }
   ],
   "source": [
    "#也可以用KNN模型，但效果差，准确度低，放弃。参数只调距离公式：\n",
    "from sklearn.model_selection import GridSearchCV\n",
    "from sklearn.neighbors import KNeighborsClassifier\n",
    "param_grid = {\n",
    "    'p' : [1, 2]\n",
    "}\n",
    "grid_search = GridSearchCV(KNeighborsClassifier(n_neighbors = 5), param_grid, cv=5)\n",
    "grid_search.fit(x_train, y_train)\n",
    "y_pred = grid_search.predict(x_test)\n",
    "\n",
    "print \"Best params:\"\n",
    "print grid_search.best_estimator_\n",
    "print \"Grid Search results:\"\n",
    "grid_search.grid_scores_"
   ]
  },
  {
   "cell_type": "code",
   "execution_count": 12,
   "metadata": {
    "collapsed": false
   },
   "outputs": [
    {
     "name": "stdout",
     "output_type": "stream",
     "text": [
      "Train Accuracy score：0.706764295676\n",
      "Test Accuracy score：0.608786610879\n"
     ]
    }
   ],
   "source": [
    "from sklearn.metrics import accuracy_score\n",
    "print \"Train Accuracy score：\" + str(grid_search.score(x_train, y_train))\n",
    "print \"Test Accuracy score：\" + str(accuracy_score(y_test, y_pred))"
   ]
  },
  {
   "cell_type": "code",
   "execution_count": 13,
   "metadata": {
    "collapsed": false
   },
   "outputs": [
    {
     "name": "stdout",
     "output_type": "stream",
     "text": [
      "Classifier result:\n"
     ]
    },
    {
     "data": {
      "text/plain": [
       "array([[268,  20,  31],\n",
       "       [ 94, 203,  12],\n",
       "       [190,  27, 111]])"
      ]
     },
     "execution_count": 13,
     "metadata": {},
     "output_type": "execute_result"
    }
   ],
   "source": [
    "from sklearn.metrics import confusion_matrix\n",
    "print \"Classifier result:\"\n",
    "confusion_matrix(y_test, y_pred)"
   ]
  },
  {
   "cell_type": "markdown",
   "metadata": {},
   "source": [
    "    4. 以逆文本频率向量作为训练数据，以朴素贝叶斯模型分类。"
   ]
  },
  {
   "cell_type": "code",
   "execution_count": 14,
   "metadata": {
    "collapsed": false
   },
   "outputs": [],
   "source": [
    "#改用IT-IDF作为词特征，先重新读入数据\n",
    "from sklearn.feature_extraction.text import  TfidfVectorizer\n",
    "from sklearn.model_selection import train_test_split\n",
    "\n",
    "vectorizer = TfidfVectorizer()\n",
    "word_split = list(data[\"segment\"])\n",
    "word_split = vectorizer.fit_transform(word_split)\n",
    "target = list(data[\"type\"])\n",
    "\n",
    "x_train, x_test, y_train, y_test = train_test_split(word_split, target, random_state = 1)"
   ]
  },
  {
   "cell_type": "code",
   "execution_count": 15,
   "metadata": {
    "collapsed": false
   },
   "outputs": [
    {
     "name": "stdout",
     "output_type": "stream",
     "text": [
      "Best params:\n",
      "MultinomialNB(alpha=0.1, class_prior=None, fit_prior=False)\n",
      "Grid Search results:\n"
     ]
    },
    {
     "name": "stderr",
     "output_type": "stream",
     "text": [
      "C:\\Users\\hehaoxing\\Anaconda2\\lib\\site-packages\\sklearn\\model_selection\\_search.py:667: DeprecationWarning: The grid_scores_ attribute was deprecated in version 0.18 in favor of the more elaborate cv_results_ attribute. The grid_scores_ attribute will not be available from 0.20\n",
      "  DeprecationWarning)\n"
     ]
    },
    {
     "data": {
      "text/plain": [
       "[mean: 0.85321, std: 0.00664, params: {'alpha': 0.1, 'fit_prior': True},\n",
       " mean: 0.86192, std: 0.00854, params: {'alpha': 0.1, 'fit_prior': False},\n",
       " mean: 0.84937, std: 0.00541, params: {'alpha': 0.2, 'fit_prior': True},\n",
       " mean: 0.85635, std: 0.00802, params: {'alpha': 0.2, 'fit_prior': False},\n",
       " mean: 0.84589, std: 0.00554, params: {'alpha': 0.3, 'fit_prior': True},\n",
       " mean: 0.85635, std: 0.00920, params: {'alpha': 0.3, 'fit_prior': False},\n",
       " mean: 0.84623, std: 0.00566, params: {'alpha': 0.4, 'fit_prior': True},\n",
       " mean: 0.85460, std: 0.00832, params: {'alpha': 0.4, 'fit_prior': False},\n",
       " mean: 0.84519, std: 0.00661, params: {'alpha': 0.5, 'fit_prior': True},\n",
       " mean: 0.85425, std: 0.00811, params: {'alpha': 0.5, 'fit_prior': False},\n",
       " mean: 0.84449, std: 0.00686, params: {'alpha': 0.6, 'fit_prior': True},\n",
       " mean: 0.85251, std: 0.00794, params: {'alpha': 0.6, 'fit_prior': False},\n",
       " mean: 0.84240, std: 0.00781, params: {'alpha': 0.7, 'fit_prior': True},\n",
       " mean: 0.85181, std: 0.00827, params: {'alpha': 0.7, 'fit_prior': False},\n",
       " mean: 0.84310, std: 0.00746, params: {'alpha': 0.8, 'fit_prior': True},\n",
       " mean: 0.85112, std: 0.00742, params: {'alpha': 0.8, 'fit_prior': False},\n",
       " mean: 0.84310, std: 0.00665, params: {'alpha': 0.9, 'fit_prior': True},\n",
       " mean: 0.85077, std: 0.00851, params: {'alpha': 0.9, 'fit_prior': False},\n",
       " mean: 0.84275, std: 0.00408, params: {'alpha': 1.0, 'fit_prior': True},\n",
       " mean: 0.85077, std: 0.00851, params: {'alpha': 1.0, 'fit_prior': False}]"
      ]
     },
     "execution_count": 15,
     "metadata": {},
     "output_type": "execute_result"
    }
   ],
   "source": [
    "#选择朴素贝叶斯模型\n",
    "from sklearn.model_selection import GridSearchCV\n",
    "from sklearn.naive_bayes import MultinomialNB\n",
    "\n",
    "param_grid = {\n",
    "    'alpha': [0.1, 0.2, 0.3, 0.4, 0.5, 0.6, 0.7, 0.8, 0.9, 1.0],\n",
    "    'fit_prior' : [True, False]\n",
    "}\n",
    "grid_search = GridSearchCV(MultinomialNB(), param_grid, cv=5)\n",
    "grid_search.fit(x_train, y_train)\n",
    "y_pred = grid_search.predict(x_test)\n",
    "\n",
    "print \"Best params:\"\n",
    "print grid_search.best_estimator_\n",
    "print \"Grid Search results:\"\n",
    "grid_search.grid_scores_"
   ]
  },
  {
   "cell_type": "code",
   "execution_count": 16,
   "metadata": {
    "collapsed": false
   },
   "outputs": [
    {
     "name": "stdout",
     "output_type": "stream",
     "text": [
      "Train Accuracy score：0.949790794979\n",
      "Test Accuracy score：0.862970711297\n"
     ]
    }
   ],
   "source": [
    "from sklearn.metrics import accuracy_score\n",
    "print \"Train Accuracy score：\" + str(grid_search.score(x_train, y_train))\n",
    "print \"Test Accuracy score：\" + str(accuracy_score(y_test, y_pred))"
   ]
  },
  {
   "cell_type": "code",
   "execution_count": 17,
   "metadata": {
    "collapsed": false
   },
   "outputs": [
    {
     "name": "stdout",
     "output_type": "stream",
     "text": [
      "Classifier result:\n"
     ]
    },
    {
     "data": {
      "text/plain": [
       "array([[264,  21,  34],\n",
       "       [ 16, 284,   9],\n",
       "       [ 45,   6, 277]])"
      ]
     },
     "execution_count": 17,
     "metadata": {},
     "output_type": "execute_result"
    }
   ],
   "source": [
    "from sklearn.metrics import confusion_matrix\n",
    "print \"Classifier result:\"\n",
    "confusion_matrix(y_test, y_pred)"
   ]
  },
  {
   "cell_type": "markdown",
   "metadata": {},
   "source": [
    "    5. 以逆文本频率向量作为训练数据，以逻辑斯蒂模型分类。"
   ]
  },
  {
   "cell_type": "code",
   "execution_count": 18,
   "metadata": {
    "collapsed": false
   },
   "outputs": [
    {
     "name": "stdout",
     "output_type": "stream",
     "text": [
      "Best params:\n",
      "LogisticRegression(C=10.0, class_weight=None, dual=False, fit_intercept=True,\n",
      "          intercept_scaling=1, max_iter=100, multi_class='ovr', n_jobs=1,\n",
      "          penalty='l2', random_state=None, solver='liblinear', tol=0.0001,\n",
      "          verbose=0, warm_start=False)\n",
      "Grid Search results:\n"
     ]
    },
    {
     "name": "stderr",
     "output_type": "stream",
     "text": [
      "C:\\Users\\hehaoxing\\Anaconda2\\lib\\site-packages\\sklearn\\model_selection\\_search.py:667: DeprecationWarning: The grid_scores_ attribute was deprecated in version 0.18 in favor of the more elaborate cv_results_ attribute. The grid_scores_ attribute will not be available from 0.20\n",
      "  DeprecationWarning)\n"
     ]
    },
    {
     "data": {
      "text/plain": [
       "[mean: 0.35669, std: 0.00023, params: {'penalty': 'l1', 'C': 0.01},\n",
       " mean: 0.55544, std: 0.00977, params: {'penalty': 'l2', 'C': 0.01},\n",
       " mean: 0.48152, std: 0.00618, params: {'penalty': 'l1', 'C': 0.1},\n",
       " mean: 0.78940, std: 0.01758, params: {'penalty': 'l2', 'C': 0.1},\n",
       " mean: 0.79428, std: 0.01907, params: {'penalty': 'l1', 'C': 1.0},\n",
       " mean: 0.84589, std: 0.01082, params: {'penalty': 'l2', 'C': 1.0},\n",
       " mean: 0.84066, std: 0.01334, params: {'penalty': 'l1', 'C': 10.0},\n",
       " mean: 0.86088, std: 0.01360, params: {'penalty': 'l2', 'C': 10.0},\n",
       " mean: 0.84554, std: 0.01439, params: {'penalty': 'l1', 'C': 100.0},\n",
       " mean: 0.85809, std: 0.01126, params: {'penalty': 'l2', 'C': 100.0},\n",
       " mean: 0.85286, std: 0.01411, params: {'penalty': 'l1', 'C': 1000.0},\n",
       " mean: 0.85669, std: 0.01404, params: {'penalty': 'l2', 'C': 1000.0}]"
      ]
     },
     "execution_count": 18,
     "metadata": {},
     "output_type": "execute_result"
    }
   ],
   "source": [
    "#维度较高，使用简单模型，再次选择逻辑斯蒂回归模型\n",
    "from sklearn.model_selection import GridSearchCV\n",
    "from sklearn.linear_model import LogisticRegression\n",
    "param_grid = {\n",
    "    'penalty': ['l1', 'l2'],\n",
    "    'C' : [0.01, 0.1, 1.0, 10.0, 100.0, 1000.0]\n",
    "}\n",
    "grid_search = GridSearchCV(LogisticRegression(), param_grid, cv=5)\n",
    "grid_search.fit(x_train, y_train)\n",
    "y_pred = grid_search.predict(x_test)\n",
    "\n",
    "print \"Best params:\"\n",
    "print grid_search.best_estimator_\n",
    "print \"Grid Search results:\"\n",
    "grid_search.grid_scores_"
   ]
  },
  {
   "cell_type": "code",
   "execution_count": 19,
   "metadata": {
    "collapsed": false
   },
   "outputs": [
    {
     "name": "stdout",
     "output_type": "stream",
     "text": [
      "Train Accuracy score：0.982217573222\n",
      "Test Accuracy score：0.85460251046\n"
     ]
    }
   ],
   "source": [
    "from sklearn.metrics import accuracy_score\n",
    "print \"Train Accuracy score：\" + str(grid_search.score(x_train, y_train))\n",
    "print \"Test Accuracy score：\" + str(accuracy_score(y_test, y_pred))"
   ]
  },
  {
   "cell_type": "code",
   "execution_count": 20,
   "metadata": {
    "collapsed": false
   },
   "outputs": [
    {
     "name": "stdout",
     "output_type": "stream",
     "text": [
      "Classifier result:\n"
     ]
    },
    {
     "data": {
      "text/plain": [
       "array([[261,  12,  46],\n",
       "       [ 17, 275,  17],\n",
       "       [ 43,   4, 281]])"
      ]
     },
     "execution_count": 20,
     "metadata": {},
     "output_type": "execute_result"
    }
   ],
   "source": [
    "from sklearn.metrics import confusion_matrix\n",
    "print \"Classifier result:\"\n",
    "confusion_matrix(y_test, y_pred)"
   ]
  },
  {
   "cell_type": "markdown",
   "metadata": {},
   "source": [
    "# 4. 总结"
   ]
  },
  {
   "cell_type": "markdown",
   "metadata": {},
   "source": [
    "不同特征选择和训练模型下，分类的准确度：\n",
    "\n",
    "    1. 在训练集上的准确度\n",
    "<table border=\"1\">\n",
    "<tr>\n",
    "  <td>特征选择\\训练模型</td>\n",
    "  <td>朴素贝叶斯模型</td>\n",
    "  <td>逻辑斯蒂回归模型</td>\n",
    "  <td>K最近邻模型</td>\n",
    "</tr>   \n",
    "<tr>\n",
    "  <td>词频计数向量</td>\n",
    "  <td>94.07%</td>\n",
    "  <td>96.72%</td>\n",
    "  <td>70.67%</td>\n",
    "</tr>\n",
    "<tr>\n",
    "  <td>TFIDF词向量</td>\n",
    "  <td>94.98%</td>\n",
    "  <td>98.22%</td>\n",
    "  <td>-</td>\n",
    "</tr>\n",
    "</table>\n",
    "\n",
    "    2. 在测试集上的准确度\n",
    "<table border=\"1\">\n",
    "<tr>\n",
    "  <td>特征选择\\训练模型</td>\n",
    "  <td>朴素贝叶斯模型</td>\n",
    "  <td>逻辑斯蒂回归模型</td>\n",
    "  <td>K最近邻模型</td>\n",
    "</tr>   \n",
    "<tr>\n",
    "  <td>词频计数向量</td>\n",
    "  <td>85.77%</td>\n",
    "  <td>86.30%</td>\n",
    "  <td>60.88%</td>\n",
    "</tr>\n",
    "<tr>\n",
    "  <td>TFIDF词向量</td>\n",
    "  <td>86.29%</td>\n",
    "  <td>85.46%</td>\n",
    "  <td>-</td>\n",
    "</tr>\n",
    "</table>"
   ]
  },
  {
   "cell_type": "markdown",
   "metadata": {},
   "source": [
    "由上可知，样本在视同TF-IDF词向量做特征，以朴素贝叶斯模型训练样本，样本拟合比较好。\n",
    "          相比于朴素贝叶斯模型，逻辑斯蒂模型有过拟合的倾向。\n",
    "          但是使用K最近邻模型，样本明显欠拟合。\n",
    "        \n",
    "由此可知，使用TF-IDF词向量做特征，使用朴素贝叶斯模型作拟合，在本例中起到了比较好的效果。"
   ]
  }
 ],
 "metadata": {
  "kernelspec": {
   "display_name": "Python 2",
   "language": "python",
   "name": "python2"
  },
  "language_info": {
   "codemirror_mode": {
    "name": "ipython",
    "version": 2
   },
   "file_extension": ".py",
   "mimetype": "text/x-python",
   "name": "python",
   "nbconvert_exporter": "python",
   "pygments_lexer": "ipython2",
   "version": "2.7.6"
  }
 },
 "nbformat": 4,
 "nbformat_minor": 2
}
