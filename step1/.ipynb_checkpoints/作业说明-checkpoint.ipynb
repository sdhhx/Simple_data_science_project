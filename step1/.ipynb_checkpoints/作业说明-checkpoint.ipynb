{
 "cells": [
  {
   "cell_type": "markdown",
   "metadata": {},
   "source": [
    "# Step1 数据获取"
   ]
  },
  {
   "cell_type": "markdown",
   "metadata": {},
   "source": [
    "    使用scrapy爬取用于训练的数据。\n",
    "    这里写了两类爬虫：\n",
    "        1. 搜狐新闻：爬取数量相对较多。静态网页较为容易获取。\n",
    "        2. 腾讯新闻：涉及动态网页的爬取，所以慢，而且这里忽略了所有图片新闻(偷懒)。"
   ]
  },
  {
   "cell_type": "markdown",
   "metadata": {},
   "source": [
    "    \n",
    "   # 本步骤之后的所有步骤，都是在以搜狐新闻爬取的数据，进行分析的。"
   ]
  }
 ],
 "metadata": {
  "kernelspec": {
   "display_name": "Python 2",
   "language": "python",
   "name": "python2"
  },
  "language_info": {
   "codemirror_mode": {
    "name": "ipython",
    "version": 2
   },
   "file_extension": ".py",
   "mimetype": "text/x-python",
   "name": "python",
   "nbconvert_exporter": "python",
   "pygments_lexer": "ipython2",
   "version": "2.7.6"
  }
 },
 "nbformat": 4,
 "nbformat_minor": 0
}
